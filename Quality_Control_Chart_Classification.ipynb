{
 "cells": [
  {
   "cell_type": "code",
   "execution_count": 175,
   "metadata": {},
   "outputs": [],
   "source": [
    "from sklearn.model_selection import train_test_split\n",
    "from sklearn.decomposition import PCA\n",
    "from sklearn.preprocessing import StandardScaler\n",
    "from sklearn.svm import SVC\n",
    "import matplotlib.pyplot as plt\n",
    "import seaborn as sns\n",
    "import pandas as pd\n",
    "import numpy as np\n",
    "%matplotlib inline\n"
   ]
  },
  {
   "cell_type": "code",
   "execution_count": 176,
   "metadata": {},
   "outputs": [],
   "source": [
    "df1=pd.read_excel('synthetic_control_2.xlsx',header=None)"
   ]
  },
  {
   "cell_type": "code",
   "execution_count": 177,
   "metadata": {},
   "outputs": [
    {
     "data": {
      "text/html": [
       "<div>\n",
       "<style scoped>\n",
       "    .dataframe tbody tr th:only-of-type {\n",
       "        vertical-align: middle;\n",
       "    }\n",
       "\n",
       "    .dataframe tbody tr th {\n",
       "        vertical-align: top;\n",
       "    }\n",
       "\n",
       "    .dataframe thead th {\n",
       "        text-align: right;\n",
       "    }\n",
       "</style>\n",
       "<table border=\"1\" class=\"dataframe\">\n",
       "  <thead>\n",
       "    <tr style=\"text-align: right;\">\n",
       "      <th></th>\n",
       "      <th>0</th>\n",
       "      <th>1</th>\n",
       "      <th>2</th>\n",
       "      <th>3</th>\n",
       "      <th>4</th>\n",
       "      <th>5</th>\n",
       "      <th>6</th>\n",
       "      <th>7</th>\n",
       "      <th>8</th>\n",
       "      <th>9</th>\n",
       "      <th>...</th>\n",
       "      <th>50</th>\n",
       "      <th>51</th>\n",
       "      <th>52</th>\n",
       "      <th>53</th>\n",
       "      <th>54</th>\n",
       "      <th>55</th>\n",
       "      <th>56</th>\n",
       "      <th>57</th>\n",
       "      <th>58</th>\n",
       "      <th>59</th>\n",
       "    </tr>\n",
       "  </thead>\n",
       "  <tbody>\n",
       "    <tr>\n",
       "      <th>0</th>\n",
       "      <td>28.7812</td>\n",
       "      <td>34.4632</td>\n",
       "      <td>31.3381</td>\n",
       "      <td>31.2834</td>\n",
       "      <td>28.9207</td>\n",
       "      <td>33.7596</td>\n",
       "      <td>25.3969</td>\n",
       "      <td>27.7849</td>\n",
       "      <td>35.2479</td>\n",
       "      <td>27.1159</td>\n",
       "      <td>...</td>\n",
       "      <td>31.4333</td>\n",
       "      <td>24.5556</td>\n",
       "      <td>33.7431</td>\n",
       "      <td>25.0466</td>\n",
       "      <td>34.9318</td>\n",
       "      <td>34.9879</td>\n",
       "      <td>32.4721</td>\n",
       "      <td>33.3759</td>\n",
       "      <td>25.4652</td>\n",
       "      <td>25.8717</td>\n",
       "    </tr>\n",
       "    <tr>\n",
       "      <th>1</th>\n",
       "      <td>24.8923</td>\n",
       "      <td>25.7410</td>\n",
       "      <td>27.5532</td>\n",
       "      <td>32.8217</td>\n",
       "      <td>27.8789</td>\n",
       "      <td>31.5926</td>\n",
       "      <td>31.4861</td>\n",
       "      <td>35.5469</td>\n",
       "      <td>27.9516</td>\n",
       "      <td>31.6595</td>\n",
       "      <td>...</td>\n",
       "      <td>32.5577</td>\n",
       "      <td>31.0205</td>\n",
       "      <td>26.6418</td>\n",
       "      <td>28.4331</td>\n",
       "      <td>33.6564</td>\n",
       "      <td>26.4244</td>\n",
       "      <td>28.4661</td>\n",
       "      <td>34.2484</td>\n",
       "      <td>32.1005</td>\n",
       "      <td>26.6910</td>\n",
       "    </tr>\n",
       "    <tr>\n",
       "      <th>2</th>\n",
       "      <td>31.3987</td>\n",
       "      <td>30.6316</td>\n",
       "      <td>26.3983</td>\n",
       "      <td>24.2905</td>\n",
       "      <td>27.8613</td>\n",
       "      <td>28.5491</td>\n",
       "      <td>24.9717</td>\n",
       "      <td>32.4358</td>\n",
       "      <td>25.2239</td>\n",
       "      <td>27.3068</td>\n",
       "      <td>...</td>\n",
       "      <td>33.6318</td>\n",
       "      <td>26.5966</td>\n",
       "      <td>25.5387</td>\n",
       "      <td>32.5434</td>\n",
       "      <td>25.5772</td>\n",
       "      <td>29.9897</td>\n",
       "      <td>31.3510</td>\n",
       "      <td>33.9002</td>\n",
       "      <td>29.5446</td>\n",
       "      <td>29.3430</td>\n",
       "    </tr>\n",
       "    <tr>\n",
       "      <th>3</th>\n",
       "      <td>25.7740</td>\n",
       "      <td>30.5262</td>\n",
       "      <td>35.4209</td>\n",
       "      <td>25.6033</td>\n",
       "      <td>27.9700</td>\n",
       "      <td>25.2702</td>\n",
       "      <td>28.1320</td>\n",
       "      <td>29.4268</td>\n",
       "      <td>31.4549</td>\n",
       "      <td>27.3200</td>\n",
       "      <td>...</td>\n",
       "      <td>34.6292</td>\n",
       "      <td>28.7261</td>\n",
       "      <td>28.2979</td>\n",
       "      <td>31.5787</td>\n",
       "      <td>34.6156</td>\n",
       "      <td>32.5492</td>\n",
       "      <td>30.9827</td>\n",
       "      <td>24.8938</td>\n",
       "      <td>27.3659</td>\n",
       "      <td>25.3069</td>\n",
       "    </tr>\n",
       "    <tr>\n",
       "      <th>4</th>\n",
       "      <td>27.1798</td>\n",
       "      <td>29.2498</td>\n",
       "      <td>33.6928</td>\n",
       "      <td>25.6264</td>\n",
       "      <td>24.6555</td>\n",
       "      <td>28.9446</td>\n",
       "      <td>35.7980</td>\n",
       "      <td>34.9446</td>\n",
       "      <td>24.5596</td>\n",
       "      <td>34.2366</td>\n",
       "      <td>...</td>\n",
       "      <td>27.7218</td>\n",
       "      <td>27.9601</td>\n",
       "      <td>35.7198</td>\n",
       "      <td>27.5760</td>\n",
       "      <td>35.3375</td>\n",
       "      <td>29.9993</td>\n",
       "      <td>34.2149</td>\n",
       "      <td>33.1276</td>\n",
       "      <td>31.1057</td>\n",
       "      <td>31.0179</td>\n",
       "    </tr>\n",
       "  </tbody>\n",
       "</table>\n",
       "<p>5 rows × 60 columns</p>\n",
       "</div>"
      ],
      "text/plain": [
       "        0        1        2        3        4        5        6        7   \\\n",
       "0  28.7812  34.4632  31.3381  31.2834  28.9207  33.7596  25.3969  27.7849   \n",
       "1  24.8923  25.7410  27.5532  32.8217  27.8789  31.5926  31.4861  35.5469   \n",
       "2  31.3987  30.6316  26.3983  24.2905  27.8613  28.5491  24.9717  32.4358   \n",
       "3  25.7740  30.5262  35.4209  25.6033  27.9700  25.2702  28.1320  29.4268   \n",
       "4  27.1798  29.2498  33.6928  25.6264  24.6555  28.9446  35.7980  34.9446   \n",
       "\n",
       "        8        9   ...       50       51       52       53       54  \\\n",
       "0  35.2479  27.1159  ...  31.4333  24.5556  33.7431  25.0466  34.9318   \n",
       "1  27.9516  31.6595  ...  32.5577  31.0205  26.6418  28.4331  33.6564   \n",
       "2  25.2239  27.3068  ...  33.6318  26.5966  25.5387  32.5434  25.5772   \n",
       "3  31.4549  27.3200  ...  34.6292  28.7261  28.2979  31.5787  34.6156   \n",
       "4  24.5596  34.2366  ...  27.7218  27.9601  35.7198  27.5760  35.3375   \n",
       "\n",
       "        55       56       57       58       59  \n",
       "0  34.9879  32.4721  33.3759  25.4652  25.8717  \n",
       "1  26.4244  28.4661  34.2484  32.1005  26.6910  \n",
       "2  29.9897  31.3510  33.9002  29.5446  29.3430  \n",
       "3  32.5492  30.9827  24.8938  27.3659  25.3069  \n",
       "4  29.9993  34.2149  33.1276  31.1057  31.0179  \n",
       "\n",
       "[5 rows x 60 columns]"
      ]
     },
     "execution_count": 177,
     "metadata": {},
     "output_type": "execute_result"
    }
   ],
   "source": [
    "df1.head()"
   ]
  },
  {
   "cell_type": "markdown",
   "metadata": {},
   "source": [
    "insure that the data is normalized"
   ]
  },
  {
   "cell_type": "code",
   "execution_count": 178,
   "metadata": {},
   "outputs": [],
   "source": [
    "df2=df1.convert_dtypes(convert_floating=True)"
   ]
  },
  {
   "cell_type": "code",
   "execution_count": 179,
   "metadata": {},
   "outputs": [
    {
     "data": {
      "text/plain": [
       "(600, 60)"
      ]
     },
     "execution_count": 179,
     "metadata": {},
     "output_type": "execute_result"
    }
   ],
   "source": [
    "df2.shape"
   ]
  },
  {
   "cell_type": "code",
   "execution_count": 180,
   "metadata": {},
   "outputs": [],
   "source": [
    "pca=PCA(2)"
   ]
  },
  {
   "cell_type": "code",
   "execution_count": 181,
   "metadata": {},
   "outputs": [],
   "source": [
    "df2_pca=pca.fit_transform(df2)"
   ]
  },
  {
   "cell_type": "code",
   "execution_count": 182,
   "metadata": {},
   "outputs": [
    {
     "data": {
      "text/plain": [
       "(600, 2)"
      ]
     },
     "execution_count": 182,
     "metadata": {},
     "output_type": "execute_result"
    }
   ],
   "source": [
    "df2_pca.shape"
   ]
  },
  {
   "cell_type": "code",
   "execution_count": 183,
   "metadata": {},
   "outputs": [
    {
     "data": {
      "text/plain": [
       "StandardScaler()"
      ]
     },
     "execution_count": 183,
     "metadata": {},
     "output_type": "execute_result"
    }
   ],
   "source": [
    "scaler = StandardScaler()\n",
    "scaler.fit(df2_pca)"
   ]
  },
  {
   "cell_type": "code",
   "execution_count": 184,
   "metadata": {},
   "outputs": [],
   "source": [
    "df2_standard=scaler.transform(df2_pca)"
   ]
  },
  {
   "cell_type": "code",
   "execution_count": 185,
   "metadata": {},
   "outputs": [
    {
     "data": {
      "text/plain": [
       "array([[-0.00375792, -0.2368235 ],\n",
       "       [ 0.04573027, -0.10484324],\n",
       "       [ 0.0500877 , -0.17166161],\n",
       "       ...,\n",
       "       [ 0.81440409, -0.09066941],\n",
       "       [ 1.34611919,  0.22286602],\n",
       "       [ 1.4258849 , -0.4151263 ]])"
      ]
     },
     "execution_count": 185,
     "metadata": {},
     "output_type": "execute_result"
    }
   ],
   "source": [
    "df2_standard"
   ]
  },
  {
   "cell_type": "markdown",
   "metadata": {},
   "source": [
    "Generate the label values"
   ]
  },
  {
   "cell_type": "code",
   "execution_count": 186,
   "metadata": {},
   "outputs": [],
   "source": [
    "lst=[]\n",
    "for count,values in enumerate(range(600)):\n",
    "    if count < 100:\n",
    "        lst.append(1)\n",
    "    if (count >= 100) and (count < 200):\n",
    "        lst.append(2)\n",
    "        \n",
    "    if (count >= 200) and (count < 300):\n",
    "        lst.append(3)\n",
    "    if (count >= 300) and (count < 400):\n",
    "        lst.append(4)\n",
    "    if (count >= 400) and (count < 500):\n",
    "        lst.append(5)\n",
    "    if (count >= 500):\n",
    "        lst.append(6)"
   ]
  },
  {
   "cell_type": "code",
   "execution_count": 187,
   "metadata": {},
   "outputs": [],
   "source": [
    "df_label=pd.DataFrame()"
   ]
  },
  {
   "cell_type": "code",
   "execution_count": 188,
   "metadata": {},
   "outputs": [],
   "source": [
    "df_label['class']=lst"
   ]
  },
  {
   "cell_type": "code",
   "execution_count": 189,
   "metadata": {},
   "outputs": [
    {
     "data": {
      "text/html": [
       "<div>\n",
       "<style scoped>\n",
       "    .dataframe tbody tr th:only-of-type {\n",
       "        vertical-align: middle;\n",
       "    }\n",
       "\n",
       "    .dataframe tbody tr th {\n",
       "        vertical-align: top;\n",
       "    }\n",
       "\n",
       "    .dataframe thead th {\n",
       "        text-align: right;\n",
       "    }\n",
       "</style>\n",
       "<table border=\"1\" class=\"dataframe\">\n",
       "  <thead>\n",
       "    <tr style=\"text-align: right;\">\n",
       "      <th></th>\n",
       "      <th>0</th>\n",
       "      <th>1</th>\n",
       "      <th>2</th>\n",
       "      <th>3</th>\n",
       "      <th>4</th>\n",
       "      <th>5</th>\n",
       "      <th>6</th>\n",
       "      <th>7</th>\n",
       "      <th>8</th>\n",
       "      <th>9</th>\n",
       "      <th>...</th>\n",
       "      <th>50</th>\n",
       "      <th>51</th>\n",
       "      <th>52</th>\n",
       "      <th>53</th>\n",
       "      <th>54</th>\n",
       "      <th>55</th>\n",
       "      <th>56</th>\n",
       "      <th>57</th>\n",
       "      <th>58</th>\n",
       "      <th>59</th>\n",
       "    </tr>\n",
       "  </thead>\n",
       "  <tbody>\n",
       "    <tr>\n",
       "      <th>0</th>\n",
       "      <td>28.7812</td>\n",
       "      <td>34.4632</td>\n",
       "      <td>31.3381</td>\n",
       "      <td>31.2834</td>\n",
       "      <td>28.9207</td>\n",
       "      <td>33.7596</td>\n",
       "      <td>25.3969</td>\n",
       "      <td>27.7849</td>\n",
       "      <td>35.2479</td>\n",
       "      <td>27.1159</td>\n",
       "      <td>...</td>\n",
       "      <td>31.4333</td>\n",
       "      <td>24.5556</td>\n",
       "      <td>33.7431</td>\n",
       "      <td>25.0466</td>\n",
       "      <td>34.9318</td>\n",
       "      <td>34.9879</td>\n",
       "      <td>32.4721</td>\n",
       "      <td>33.3759</td>\n",
       "      <td>25.4652</td>\n",
       "      <td>25.8717</td>\n",
       "    </tr>\n",
       "    <tr>\n",
       "      <th>1</th>\n",
       "      <td>24.8923</td>\n",
       "      <td>25.741</td>\n",
       "      <td>27.5532</td>\n",
       "      <td>32.8217</td>\n",
       "      <td>27.8789</td>\n",
       "      <td>31.5926</td>\n",
       "      <td>31.4861</td>\n",
       "      <td>35.5469</td>\n",
       "      <td>27.9516</td>\n",
       "      <td>31.6595</td>\n",
       "      <td>...</td>\n",
       "      <td>32.5577</td>\n",
       "      <td>31.0205</td>\n",
       "      <td>26.6418</td>\n",
       "      <td>28.4331</td>\n",
       "      <td>33.6564</td>\n",
       "      <td>26.4244</td>\n",
       "      <td>28.4661</td>\n",
       "      <td>34.2484</td>\n",
       "      <td>32.1005</td>\n",
       "      <td>26.691</td>\n",
       "    </tr>\n",
       "    <tr>\n",
       "      <th>2</th>\n",
       "      <td>31.3987</td>\n",
       "      <td>30.6316</td>\n",
       "      <td>26.3983</td>\n",
       "      <td>24.2905</td>\n",
       "      <td>27.8613</td>\n",
       "      <td>28.5491</td>\n",
       "      <td>24.9717</td>\n",
       "      <td>32.4358</td>\n",
       "      <td>25.2239</td>\n",
       "      <td>27.3068</td>\n",
       "      <td>...</td>\n",
       "      <td>33.6318</td>\n",
       "      <td>26.5966</td>\n",
       "      <td>25.5387</td>\n",
       "      <td>32.5434</td>\n",
       "      <td>25.5772</td>\n",
       "      <td>29.9897</td>\n",
       "      <td>31.351</td>\n",
       "      <td>33.9002</td>\n",
       "      <td>29.5446</td>\n",
       "      <td>29.343</td>\n",
       "    </tr>\n",
       "    <tr>\n",
       "      <th>3</th>\n",
       "      <td>25.774</td>\n",
       "      <td>30.5262</td>\n",
       "      <td>35.4209</td>\n",
       "      <td>25.6033</td>\n",
       "      <td>27.97</td>\n",
       "      <td>25.2702</td>\n",
       "      <td>28.132</td>\n",
       "      <td>29.4268</td>\n",
       "      <td>31.4549</td>\n",
       "      <td>27.32</td>\n",
       "      <td>...</td>\n",
       "      <td>34.6292</td>\n",
       "      <td>28.7261</td>\n",
       "      <td>28.2979</td>\n",
       "      <td>31.5787</td>\n",
       "      <td>34.6156</td>\n",
       "      <td>32.5492</td>\n",
       "      <td>30.9827</td>\n",
       "      <td>24.8938</td>\n",
       "      <td>27.3659</td>\n",
       "      <td>25.3069</td>\n",
       "    </tr>\n",
       "    <tr>\n",
       "      <th>4</th>\n",
       "      <td>27.1798</td>\n",
       "      <td>29.2498</td>\n",
       "      <td>33.6928</td>\n",
       "      <td>25.6264</td>\n",
       "      <td>24.6555</td>\n",
       "      <td>28.9446</td>\n",
       "      <td>35.798</td>\n",
       "      <td>34.9446</td>\n",
       "      <td>24.5596</td>\n",
       "      <td>34.2366</td>\n",
       "      <td>...</td>\n",
       "      <td>27.7218</td>\n",
       "      <td>27.9601</td>\n",
       "      <td>35.7198</td>\n",
       "      <td>27.576</td>\n",
       "      <td>35.3375</td>\n",
       "      <td>29.9993</td>\n",
       "      <td>34.2149</td>\n",
       "      <td>33.1276</td>\n",
       "      <td>31.1057</td>\n",
       "      <td>31.0179</td>\n",
       "    </tr>\n",
       "    <tr>\n",
       "      <th>...</th>\n",
       "      <td>...</td>\n",
       "      <td>...</td>\n",
       "      <td>...</td>\n",
       "      <td>...</td>\n",
       "      <td>...</td>\n",
       "      <td>...</td>\n",
       "      <td>...</td>\n",
       "      <td>...</td>\n",
       "      <td>...</td>\n",
       "      <td>...</td>\n",
       "      <td>...</td>\n",
       "      <td>...</td>\n",
       "      <td>...</td>\n",
       "      <td>...</td>\n",
       "      <td>...</td>\n",
       "      <td>...</td>\n",
       "      <td>...</td>\n",
       "      <td>...</td>\n",
       "      <td>...</td>\n",
       "      <td>...</td>\n",
       "      <td>...</td>\n",
       "    </tr>\n",
       "    <tr>\n",
       "      <th>595</th>\n",
       "      <td>29.6254</td>\n",
       "      <td>25.5034</td>\n",
       "      <td>31.5978</td>\n",
       "      <td>31.4663</td>\n",
       "      <td>33.5488</td>\n",
       "      <td>28.2935</td>\n",
       "      <td>28.9244</td>\n",
       "      <td>30.6922</td>\n",
       "      <td>25.3301</td>\n",
       "      <td>26.8728</td>\n",
       "      <td>...</td>\n",
       "      <td>26.7468</td>\n",
       "      <td>18.8795</td>\n",
       "      <td>21.3321</td>\n",
       "      <td>23.6915</td>\n",
       "      <td>22.3097</td>\n",
       "      <td>19.1361</td>\n",
       "      <td>15.2851</td>\n",
       "      <td>22.5278</td>\n",
       "      <td>20.6572</td>\n",
       "      <td>24.1289</td>\n",
       "    </tr>\n",
       "    <tr>\n",
       "      <th>596</th>\n",
       "      <td>27.4144</td>\n",
       "      <td>25.3973</td>\n",
       "      <td>26.46</td>\n",
       "      <td>31.9782</td>\n",
       "      <td>26.1251</td>\n",
       "      <td>27.4629</td>\n",
       "      <td>30.4888</td>\n",
       "      <td>34.9292</td>\n",
       "      <td>27.558</td>\n",
       "      <td>30.6863</td>\n",
       "      <td>...</td>\n",
       "      <td>19.1063</td>\n",
       "      <td>11.4546</td>\n",
       "      <td>16.888</td>\n",
       "      <td>18.2691</td>\n",
       "      <td>11.5831</td>\n",
       "      <td>14.1176</td>\n",
       "      <td>20.2289</td>\n",
       "      <td>11.1314</td>\n",
       "      <td>9.98019</td>\n",
       "      <td>10.7201</td>\n",
       "    </tr>\n",
       "    <tr>\n",
       "      <th>597</th>\n",
       "      <td>35.899</td>\n",
       "      <td>26.6719</td>\n",
       "      <td>34.1911</td>\n",
       "      <td>35.827</td>\n",
       "      <td>25.1009</td>\n",
       "      <td>24.8564</td>\n",
       "      <td>25.8141</td>\n",
       "      <td>30.6301</td>\n",
       "      <td>34.2124</td>\n",
       "      <td>32.5874</td>\n",
       "      <td>...</td>\n",
       "      <td>21.8787</td>\n",
       "      <td>16.0021</td>\n",
       "      <td>15.2879</td>\n",
       "      <td>16.9459</td>\n",
       "      <td>17.5338</td>\n",
       "      <td>16.8464</td>\n",
       "      <td>16.546</td>\n",
       "      <td>15.9268</td>\n",
       "      <td>18.0843</td>\n",
       "      <td>17.4747</td>\n",
       "    </tr>\n",
       "    <tr>\n",
       "      <th>598</th>\n",
       "      <td>24.5383</td>\n",
       "      <td>24.2802</td>\n",
       "      <td>28.2814</td>\n",
       "      <td>27.1316</td>\n",
       "      <td>26.6623</td>\n",
       "      <td>32.11</td>\n",
       "      <td>32.81</td>\n",
       "      <td>30.4829</td>\n",
       "      <td>35.8586</td>\n",
       "      <td>25.3866</td>\n",
       "      <td>...</td>\n",
       "      <td>19.6441</td>\n",
       "      <td>11.5238</td>\n",
       "      <td>15.4185</td>\n",
       "      <td>12.6699</td>\n",
       "      <td>13.1164</td>\n",
       "      <td>8.23496</td>\n",
       "      <td>12.0419</td>\n",
       "      <td>19.3096</td>\n",
       "      <td>12.9985</td>\n",
       "      <td>17.4599</td>\n",
       "    </tr>\n",
       "    <tr>\n",
       "      <th>599</th>\n",
       "      <td>34.3354</td>\n",
       "      <td>30.9375</td>\n",
       "      <td>31.9529</td>\n",
       "      <td>31.1457</td>\n",
       "      <td>24.5189</td>\n",
       "      <td>24.3933</td>\n",
       "      <td>27.6961</td>\n",
       "      <td>29.8744</td>\n",
       "      <td>26.7666</td>\n",
       "      <td>33.0887</td>\n",
       "      <td>...</td>\n",
       "      <td>10.6075</td>\n",
       "      <td>15.1897</td>\n",
       "      <td>9.07618</td>\n",
       "      <td>17.9085</td>\n",
       "      <td>9.84551</td>\n",
       "      <td>15.013</td>\n",
       "      <td>13.9132</td>\n",
       "      <td>11.7426</td>\n",
       "      <td>11.6989</td>\n",
       "      <td>10.1521</td>\n",
       "    </tr>\n",
       "  </tbody>\n",
       "</table>\n",
       "<p>600 rows × 60 columns</p>\n",
       "</div>"
      ],
      "text/plain": [
       "          0        1        2        3        4        5        6        7   \\\n",
       "0    28.7812  34.4632  31.3381  31.2834  28.9207  33.7596  25.3969  27.7849   \n",
       "1    24.8923   25.741  27.5532  32.8217  27.8789  31.5926  31.4861  35.5469   \n",
       "2    31.3987  30.6316  26.3983  24.2905  27.8613  28.5491  24.9717  32.4358   \n",
       "3     25.774  30.5262  35.4209  25.6033    27.97  25.2702   28.132  29.4268   \n",
       "4    27.1798  29.2498  33.6928  25.6264  24.6555  28.9446   35.798  34.9446   \n",
       "..       ...      ...      ...      ...      ...      ...      ...      ...   \n",
       "595  29.6254  25.5034  31.5978  31.4663  33.5488  28.2935  28.9244  30.6922   \n",
       "596  27.4144  25.3973    26.46  31.9782  26.1251  27.4629  30.4888  34.9292   \n",
       "597   35.899  26.6719  34.1911   35.827  25.1009  24.8564  25.8141  30.6301   \n",
       "598  24.5383  24.2802  28.2814  27.1316  26.6623    32.11    32.81  30.4829   \n",
       "599  34.3354  30.9375  31.9529  31.1457  24.5189  24.3933  27.6961  29.8744   \n",
       "\n",
       "          8        9   ...       50       51       52       53       54  \\\n",
       "0    35.2479  27.1159  ...  31.4333  24.5556  33.7431  25.0466  34.9318   \n",
       "1    27.9516  31.6595  ...  32.5577  31.0205  26.6418  28.4331  33.6564   \n",
       "2    25.2239  27.3068  ...  33.6318  26.5966  25.5387  32.5434  25.5772   \n",
       "3    31.4549    27.32  ...  34.6292  28.7261  28.2979  31.5787  34.6156   \n",
       "4    24.5596  34.2366  ...  27.7218  27.9601  35.7198   27.576  35.3375   \n",
       "..       ...      ...  ...      ...      ...      ...      ...      ...   \n",
       "595  25.3301  26.8728  ...  26.7468  18.8795  21.3321  23.6915  22.3097   \n",
       "596   27.558  30.6863  ...  19.1063  11.4546   16.888  18.2691  11.5831   \n",
       "597  34.2124  32.5874  ...  21.8787  16.0021  15.2879  16.9459  17.5338   \n",
       "598  35.8586  25.3866  ...  19.6441  11.5238  15.4185  12.6699  13.1164   \n",
       "599  26.7666  33.0887  ...  10.6075  15.1897  9.07618  17.9085  9.84551   \n",
       "\n",
       "          55       56       57       58       59  \n",
       "0    34.9879  32.4721  33.3759  25.4652  25.8717  \n",
       "1    26.4244  28.4661  34.2484  32.1005   26.691  \n",
       "2    29.9897   31.351  33.9002  29.5446   29.343  \n",
       "3    32.5492  30.9827  24.8938  27.3659  25.3069  \n",
       "4    29.9993  34.2149  33.1276  31.1057  31.0179  \n",
       "..       ...      ...      ...      ...      ...  \n",
       "595  19.1361  15.2851  22.5278  20.6572  24.1289  \n",
       "596  14.1176  20.2289  11.1314  9.98019  10.7201  \n",
       "597  16.8464   16.546  15.9268  18.0843  17.4747  \n",
       "598  8.23496  12.0419  19.3096  12.9985  17.4599  \n",
       "599   15.013  13.9132  11.7426  11.6989  10.1521  \n",
       "\n",
       "[600 rows x 60 columns]"
      ]
     },
     "execution_count": 189,
     "metadata": {},
     "output_type": "execute_result"
    }
   ],
   "source": [
    "df2"
   ]
  },
  {
   "cell_type": "code",
   "execution_count": 190,
   "metadata": {},
   "outputs": [
    {
     "data": {
      "text/plain": [
       "(600, 60)"
      ]
     },
     "execution_count": 190,
     "metadata": {},
     "output_type": "execute_result"
    }
   ],
   "source": [
    "df2.shape"
   ]
  },
  {
   "cell_type": "code",
   "execution_count": 191,
   "metadata": {},
   "outputs": [],
   "source": [
    "x=df2_standard\n",
    "y=df_label['class']\n",
    "x_train, x_test, y_train, y_test = train_test_split(x,y,test_size=.4, shuffle=True,random_state=42)"
   ]
  },
  {
   "cell_type": "code",
   "execution_count": 192,
   "metadata": {},
   "outputs": [
    {
     "data": {
      "text/plain": [
       "SVC(decision_function_shape='ovo', degree=5, gamma='auto', kernel='sigmoid')"
      ]
     },
     "execution_count": 192,
     "metadata": {},
     "output_type": "execute_result"
    }
   ],
   "source": [
    "clf=SVC(kernel='sigmoid',gamma ='auto',decision_function_shape='ovo', degree=5)\n",
    "#clf.fit(x_train,y_train)\n",
    "clf.fit(x_train,y_train)"
   ]
  },
  {
   "cell_type": "code",
   "execution_count": 193,
   "metadata": {},
   "outputs": [
    {
     "data": {
      "text/plain": [
       "array([1, 5, 4, 1, 2, 3, 1, 3, 1, 4, 1, 2, 2, 2, 4, 3, 1, 3, 2, 1, 1, 6,\n",
       "       4, 4, 4, 2, 1, 1, 2, 5, 6, 1, 1, 3, 1, 5, 2, 4, 5, 3, 4, 1, 6, 4,\n",
       "       1, 1, 5, 1, 1, 3, 3, 5, 1, 2, 2, 4, 3, 1, 1, 2, 1, 1, 4, 6, 4, 1,\n",
       "       4, 4, 1, 4, 4, 1, 5, 4, 5, 4, 4, 3, 2, 3, 3, 3, 4, 4, 1, 1, 1, 5,\n",
       "       4, 3, 3, 4, 1, 6, 3, 3, 3, 1, 3, 1, 1, 3, 2, 4, 1, 5, 1, 3, 3, 5,\n",
       "       1, 5, 6, 4, 4, 4, 4, 1, 5, 5, 1, 1, 4, 6, 1, 1, 2, 3, 4, 5, 1, 4,\n",
       "       2, 1, 3, 1, 1, 1, 3, 1, 1, 5, 1, 1, 5, 1, 4, 3, 1, 1, 4, 6, 4, 4,\n",
       "       4, 3, 1, 3, 2, 1, 4, 3, 1, 3, 4, 1, 5, 3, 4, 4, 3, 3, 2, 5, 1, 1,\n",
       "       3, 1, 1, 3, 1, 3, 4, 5, 5, 4, 4, 5, 4, 3, 5, 4, 1, 3, 5, 3, 3, 4,\n",
       "       4, 1, 2, 3, 5, 1, 3, 3, 5, 3, 5, 3, 4, 4, 2, 2, 5, 2, 4, 1, 4, 1,\n",
       "       1, 5, 1, 2, 6, 5, 4, 6, 1, 4, 1, 3, 5, 5, 2, 1, 3, 5, 5, 3],\n",
       "      dtype=int64)"
      ]
     },
     "execution_count": 193,
     "metadata": {},
     "output_type": "execute_result"
    }
   ],
   "source": [
    "clf.predict(x_test)"
   ]
  },
  {
   "cell_type": "code",
   "execution_count": 194,
   "metadata": {},
   "outputs": [
    {
     "data": {
      "text/plain": [
       "0.6291666666666667"
      ]
     },
     "execution_count": 194,
     "metadata": {},
     "output_type": "execute_result"
    }
   ],
   "source": [
    "clf.score(x_test,y_test)"
   ]
  },
  {
   "cell_type": "code",
   "execution_count": 195,
   "metadata": {},
   "outputs": [
    {
     "data": {
      "text/plain": [
       "array([[ 0.01736488, -0.52404662],\n",
       "       [-0.04889505, -0.19426532],\n",
       "       [ 0.03469206, -0.45699575],\n",
       "       [-0.0632833 ,  0.13604535],\n",
       "       [-0.04370139, -0.43589231],\n",
       "       [ 0.07595041, -0.02978624],\n",
       "       [-0.0844028 , -0.44128666],\n",
       "       [-0.09924666,  0.20057388],\n",
       "       [ 0.05864544, -0.27918   ],\n",
       "       [-0.00224316, -0.35836838]])"
      ]
     },
     "execution_count": 195,
     "metadata": {},
     "output_type": "execute_result"
    }
   ],
   "source": [
    "clf.support_vectors_[:10,:] # get support vectors"
   ]
  },
  {
   "cell_type": "code",
   "execution_count": 196,
   "metadata": {},
   "outputs": [
    {
     "data": {
      "text/plain": [
       "array([  9,  11,  14,  15,  18,  27,  33,  37,  38,  41,  48,  51,  53,\n",
       "        77,  89, 107, 146, 195, 201, 205, 210, 211, 212, 220, 221, 229,\n",
       "       239, 252, 257, 258, 276, 281, 282, 284, 289, 303, 305, 307, 316,\n",
       "       330, 334, 346, 348, 354, 355,   4,   8,  10,  12,  23,  28,  54,\n",
       "        57,  66,  68,  69,  70,  75,  92, 103, 112, 115, 120, 131, 132,\n",
       "       142, 148, 162, 163, 169, 174, 176, 178, 182, 183, 191, 199, 202,\n",
       "       207, 209, 213, 214, 244, 251, 263, 275, 278, 283, 287, 301, 320,\n",
       "       327, 339, 345, 356,  17,  19,  20,  26,  47,  50,  52,  55,  84,\n",
       "        93, 100, 102, 104, 124, 128, 129, 133, 135, 144, 147, 158, 171,\n",
       "       180, 181, 187, 193, 204, 206, 215, 218, 222, 232, 234, 237, 238,\n",
       "       240, 245, 249, 253, 254, 260, 262, 267, 269, 271, 288, 291, 292,\n",
       "       296, 297, 306, 315, 319, 325, 333, 338, 351, 357,   1,   5,  16,\n",
       "        21,  24,  29,  31,  34,  44,  59,  65,  67,  72,  74,  76,  85,\n",
       "        86,  87,  94,  98,  99, 109, 111, 117, 118, 134, 141, 145, 150,\n",
       "       153, 156, 167, 168, 172, 175, 185, 186, 190, 224, 233, 235, 236,\n",
       "       250, 270, 273, 286, 290, 302, 311, 313, 317, 318, 335, 340, 343,\n",
       "       347, 350,   2,   7,  36,  40,  42,  43,  45,  49,  73,  78,  82,\n",
       "        83,  88, 108, 113, 116, 125, 130, 137, 138, 139, 151, 155, 160,\n",
       "       161, 164, 165, 166, 177, 184, 189, 198, 200, 216, 217, 227, 243,\n",
       "       246, 256, 259, 268, 272, 274, 277, 285, 293, 294, 299, 300, 309,\n",
       "       310, 322, 328, 331, 336, 341, 342, 349, 352, 358,   0,   6,  13,\n",
       "        22,  25,  35,  39,  56,  58,  61,  62,  63,  71,  79,  95, 101,\n",
       "       105, 106, 114, 119, 121, 136, 140, 143, 149, 152, 154, 157, 159,\n",
       "       170, 173, 179, 188, 192, 194, 197, 219, 223, 225, 228, 230, 231,\n",
       "       241, 242, 247, 248, 265, 266, 279, 280, 295, 304, 308, 321, 323,\n",
       "       324, 326, 329, 332])"
      ]
     },
     "execution_count": 196,
     "metadata": {},
     "output_type": "execute_result"
    }
   ],
   "source": [
    "clf.support_ # Get support vector indices"
   ]
  },
  {
   "cell_type": "code",
   "execution_count": 197,
   "metadata": {},
   "outputs": [],
   "source": [
    "support_vectors=clf.support_vectors_"
   ]
  },
  {
   "cell_type": "code",
   "execution_count": 198,
   "metadata": {},
   "outputs": [],
   "source": [
    "support_vectors_indices=clf.support_"
   ]
  },
  {
   "cell_type": "code",
   "execution_count": 199,
   "metadata": {},
   "outputs": [
    {
     "data": {
      "text/plain": [
       "(329, 2)"
      ]
     },
     "execution_count": 199,
     "metadata": {},
     "output_type": "execute_result"
    }
   ],
   "source": [
    "support_vectors.shape"
   ]
  },
  {
   "cell_type": "code",
   "execution_count": 200,
   "metadata": {},
   "outputs": [],
   "source": [
    "number_of_supports=clf.n_support_ # get number of support vectors for each class"
   ]
  },
  {
   "cell_type": "code",
   "execution_count": 201,
   "metadata": {},
   "outputs": [
    {
     "data": {
      "text/plain": [
       "array([45, 50, 58, 57, 60, 59])"
      ]
     },
     "execution_count": 201,
     "metadata": {},
     "output_type": "execute_result"
    }
   ],
   "source": [
    "number_of_supports"
   ]
  },
  {
   "cell_type": "code",
   "execution_count": 202,
   "metadata": {},
   "outputs": [],
   "source": [
    "df3=np.append(df2_standard,df_label,axis=1)"
   ]
  },
  {
   "cell_type": "code",
   "execution_count": 203,
   "metadata": {},
   "outputs": [
    {
     "data": {
      "text/plain": [
       "array([[-3.75792399e-03, -2.36823495e-01,  1.00000000e+00],\n",
       "       [ 4.57302711e-02, -1.04843238e-01,  1.00000000e+00],\n",
       "       [ 5.00877013e-02, -1.71661613e-01,  1.00000000e+00],\n",
       "       ...,\n",
       "       [ 8.14404095e-01, -9.06694079e-02,  6.00000000e+00],\n",
       "       [ 1.34611919e+00,  2.22866019e-01,  6.00000000e+00],\n",
       "       [ 1.42588490e+00, -4.15126300e-01,  6.00000000e+00]])"
      ]
     },
     "execution_count": 203,
     "metadata": {},
     "output_type": "execute_result"
    }
   ],
   "source": [
    "df3"
   ]
  },
  {
   "cell_type": "code",
   "execution_count": 204,
   "metadata": {},
   "outputs": [],
   "source": [
    "filtered_label1=df3[df3[:,2]==1][:,0:2]\n",
    "filtered_label2 = df3[df3[:,2]==2][:,0:2]\n",
    "filtered_label3 = df3[df3[:,2]==3][:,0:2]\n",
    "filtered_label4 = df3[df3[:,2]==4][:,0:2]\n",
    "filtered_label5 = df3[df3[:,2]==5][:,0:2]\n",
    "filtered_label6 = df3[df3[:,2]==6][:,0:2]"
   ]
  },
  {
   "cell_type": "code",
   "execution_count": 205,
   "metadata": {},
   "outputs": [
    {
     "data": {
      "image/png": "[encoded data removed]",
      "text/plain": [
       "<Figure size 1440x288 with 1 Axes>"
      ]
     },
     "metadata": {
      "needs_background": "light"
     },
     "output_type": "display_data"
    }
   ],
   "source": [
    "plt.figure(figsize=(20,4))\n",
    "plt.scatter(x=filtered_label1[:,0],y=filtered_label1[:,1],c='cyan')\n",
    "plt.scatter(x=filtered_label2[:,0],y=filtered_label2[:,1],c='orange')\n",
    "plt.scatter(x=filtered_label3[:,0],y=filtered_label3[:,1],c='black')\n",
    "plt.scatter(x=filtered_label4[:,0],y=filtered_label4[:,1],c='yellow')\n",
    "plt.scatter(x=filtered_label5[:,0],y=filtered_label5[:,1],c='red')\n",
    "plt.scatter(x=filtered_label6[:,0],y=filtered_label6[:,1],)\n",
    "\n",
    "\n",
    "#plt.scatter(clf.support_vectors_[:,0],clf.support_vectors_[:,1], c='blue')\n",
    "plt.show()"
   ]
  },
  {
   "cell_type": "markdown",
   "metadata": {},
   "source": [
    "### The support vector machine does not work for thei problem. there are too many over laping values.\n"
   ]
  },
  {
   "cell_type": "markdown",
   "metadata": {},
   "source": [
    "# Moving forward with Stochastic Gradient for classification"
   ]
  },
  {
   "cell_type": "code",
   "execution_count": 206,
   "metadata": {},
   "outputs": [
    {
     "data": {
      "text/html": [
       "<div>\n",
       "<style scoped>\n",
       "    .dataframe tbody tr th:only-of-type {\n",
       "        vertical-align: middle;\n",
       "    }\n",
       "\n",
       "    .dataframe tbody tr th {\n",
       "        vertical-align: top;\n",
       "    }\n",
       "\n",
       "    .dataframe thead th {\n",
       "        text-align: right;\n",
       "    }\n",
       "</style>\n",
       "<table border=\"1\" class=\"dataframe\">\n",
       "  <thead>\n",
       "    <tr style=\"text-align: right;\">\n",
       "      <th></th>\n",
       "      <th>0</th>\n",
       "      <th>1</th>\n",
       "      <th>2</th>\n",
       "      <th>3</th>\n",
       "      <th>4</th>\n",
       "      <th>5</th>\n",
       "      <th>6</th>\n",
       "      <th>7</th>\n",
       "      <th>8</th>\n",
       "      <th>9</th>\n",
       "      <th>...</th>\n",
       "      <th>50</th>\n",
       "      <th>51</th>\n",
       "      <th>52</th>\n",
       "      <th>53</th>\n",
       "      <th>54</th>\n",
       "      <th>55</th>\n",
       "      <th>56</th>\n",
       "      <th>57</th>\n",
       "      <th>58</th>\n",
       "      <th>59</th>\n",
       "    </tr>\n",
       "  </thead>\n",
       "  <tbody>\n",
       "    <tr>\n",
       "      <th>0</th>\n",
       "      <td>28.7812</td>\n",
       "      <td>34.4632</td>\n",
       "      <td>31.3381</td>\n",
       "      <td>31.2834</td>\n",
       "      <td>28.9207</td>\n",
       "      <td>33.7596</td>\n",
       "      <td>25.3969</td>\n",
       "      <td>27.7849</td>\n",
       "      <td>35.2479</td>\n",
       "      <td>27.1159</td>\n",
       "      <td>...</td>\n",
       "      <td>31.4333</td>\n",
       "      <td>24.5556</td>\n",
       "      <td>33.7431</td>\n",
       "      <td>25.0466</td>\n",
       "      <td>34.9318</td>\n",
       "      <td>34.9879</td>\n",
       "      <td>32.4721</td>\n",
       "      <td>33.3759</td>\n",
       "      <td>25.4652</td>\n",
       "      <td>25.8717</td>\n",
       "    </tr>\n",
       "    <tr>\n",
       "      <th>1</th>\n",
       "      <td>24.8923</td>\n",
       "      <td>25.7410</td>\n",
       "      <td>27.5532</td>\n",
       "      <td>32.8217</td>\n",
       "      <td>27.8789</td>\n",
       "      <td>31.5926</td>\n",
       "      <td>31.4861</td>\n",
       "      <td>35.5469</td>\n",
       "      <td>27.9516</td>\n",
       "      <td>31.6595</td>\n",
       "      <td>...</td>\n",
       "      <td>32.5577</td>\n",
       "      <td>31.0205</td>\n",
       "      <td>26.6418</td>\n",
       "      <td>28.4331</td>\n",
       "      <td>33.6564</td>\n",
       "      <td>26.4244</td>\n",
       "      <td>28.4661</td>\n",
       "      <td>34.2484</td>\n",
       "      <td>32.1005</td>\n",
       "      <td>26.6910</td>\n",
       "    </tr>\n",
       "    <tr>\n",
       "      <th>2</th>\n",
       "      <td>31.3987</td>\n",
       "      <td>30.6316</td>\n",
       "      <td>26.3983</td>\n",
       "      <td>24.2905</td>\n",
       "      <td>27.8613</td>\n",
       "      <td>28.5491</td>\n",
       "      <td>24.9717</td>\n",
       "      <td>32.4358</td>\n",
       "      <td>25.2239</td>\n",
       "      <td>27.3068</td>\n",
       "      <td>...</td>\n",
       "      <td>33.6318</td>\n",
       "      <td>26.5966</td>\n",
       "      <td>25.5387</td>\n",
       "      <td>32.5434</td>\n",
       "      <td>25.5772</td>\n",
       "      <td>29.9897</td>\n",
       "      <td>31.3510</td>\n",
       "      <td>33.9002</td>\n",
       "      <td>29.5446</td>\n",
       "      <td>29.3430</td>\n",
       "    </tr>\n",
       "    <tr>\n",
       "      <th>3</th>\n",
       "      <td>25.7740</td>\n",
       "      <td>30.5262</td>\n",
       "      <td>35.4209</td>\n",
       "      <td>25.6033</td>\n",
       "      <td>27.9700</td>\n",
       "      <td>25.2702</td>\n",
       "      <td>28.1320</td>\n",
       "      <td>29.4268</td>\n",
       "      <td>31.4549</td>\n",
       "      <td>27.3200</td>\n",
       "      <td>...</td>\n",
       "      <td>34.6292</td>\n",
       "      <td>28.7261</td>\n",
       "      <td>28.2979</td>\n",
       "      <td>31.5787</td>\n",
       "      <td>34.6156</td>\n",
       "      <td>32.5492</td>\n",
       "      <td>30.9827</td>\n",
       "      <td>24.8938</td>\n",
       "      <td>27.3659</td>\n",
       "      <td>25.3069</td>\n",
       "    </tr>\n",
       "    <tr>\n",
       "      <th>4</th>\n",
       "      <td>27.1798</td>\n",
       "      <td>29.2498</td>\n",
       "      <td>33.6928</td>\n",
       "      <td>25.6264</td>\n",
       "      <td>24.6555</td>\n",
       "      <td>28.9446</td>\n",
       "      <td>35.7980</td>\n",
       "      <td>34.9446</td>\n",
       "      <td>24.5596</td>\n",
       "      <td>34.2366</td>\n",
       "      <td>...</td>\n",
       "      <td>27.7218</td>\n",
       "      <td>27.9601</td>\n",
       "      <td>35.7198</td>\n",
       "      <td>27.5760</td>\n",
       "      <td>35.3375</td>\n",
       "      <td>29.9993</td>\n",
       "      <td>34.2149</td>\n",
       "      <td>33.1276</td>\n",
       "      <td>31.1057</td>\n",
       "      <td>31.0179</td>\n",
       "    </tr>\n",
       "  </tbody>\n",
       "</table>\n",
       "<p>5 rows × 60 columns</p>\n",
       "</div>"
      ],
      "text/plain": [
       "        0        1        2        3        4        5        6        7   \\\n",
       "0  28.7812  34.4632  31.3381  31.2834  28.9207  33.7596  25.3969  27.7849   \n",
       "1  24.8923  25.7410  27.5532  32.8217  27.8789  31.5926  31.4861  35.5469   \n",
       "2  31.3987  30.6316  26.3983  24.2905  27.8613  28.5491  24.9717  32.4358   \n",
       "3  25.7740  30.5262  35.4209  25.6033  27.9700  25.2702  28.1320  29.4268   \n",
       "4  27.1798  29.2498  33.6928  25.6264  24.6555  28.9446  35.7980  34.9446   \n",
       "\n",
       "        8        9   ...       50       51       52       53       54  \\\n",
       "0  35.2479  27.1159  ...  31.4333  24.5556  33.7431  25.0466  34.9318   \n",
       "1  27.9516  31.6595  ...  32.5577  31.0205  26.6418  28.4331  33.6564   \n",
       "2  25.2239  27.3068  ...  33.6318  26.5966  25.5387  32.5434  25.5772   \n",
       "3  31.4549  27.3200  ...  34.6292  28.7261  28.2979  31.5787  34.6156   \n",
       "4  24.5596  34.2366  ...  27.7218  27.9601  35.7198  27.5760  35.3375   \n",
       "\n",
       "        55       56       57       58       59  \n",
       "0  34.9879  32.4721  33.3759  25.4652  25.8717  \n",
       "1  26.4244  28.4661  34.2484  32.1005  26.6910  \n",
       "2  29.9897  31.3510  33.9002  29.5446  29.3430  \n",
       "3  32.5492  30.9827  24.8938  27.3659  25.3069  \n",
       "4  29.9993  34.2149  33.1276  31.1057  31.0179  \n",
       "\n",
       "[5 rows x 60 columns]"
      ]
     },
     "execution_count": 206,
     "metadata": {},
     "output_type": "execute_result"
    }
   ],
   "source": [
    "df1.head()"
   ]
  },
  {
   "cell_type": "code",
   "execution_count": 207,
   "metadata": {},
   "outputs": [
    {
     "data": {
      "text/plain": [
       "0    1\n",
       "1    1\n",
       "2    1\n",
       "3    1\n",
       "4    1\n",
       "Name: class, dtype: int64"
      ]
     },
     "execution_count": 207,
     "metadata": {},
     "output_type": "execute_result"
    }
   ],
   "source": [
    "df_label['class'].head()"
   ]
  },
  {
   "cell_type": "code",
   "execution_count": 208,
   "metadata": {},
   "outputs": [],
   "source": [
    "df1['class']=df_label['class'].copy()"
   ]
  },
  {
   "cell_type": "code",
   "execution_count": 209,
   "metadata": {},
   "outputs": [
    {
     "data": {
      "text/html": [
       "<div>\n",
       "<style scoped>\n",
       "    .dataframe tbody tr th:only-of-type {\n",
       "        vertical-align: middle;\n",
       "    }\n",
       "\n",
       "    .dataframe tbody tr th {\n",
       "        vertical-align: top;\n",
       "    }\n",
       "\n",
       "    .dataframe thead th {\n",
       "        text-align: right;\n",
       "    }\n",
       "</style>\n",
       "<table border=\"1\" class=\"dataframe\">\n",
       "  <thead>\n",
       "    <tr style=\"text-align: right;\">\n",
       "      <th></th>\n",
       "      <th>0</th>\n",
       "      <th>1</th>\n",
       "      <th>2</th>\n",
       "      <th>3</th>\n",
       "      <th>4</th>\n",
       "      <th>5</th>\n",
       "      <th>6</th>\n",
       "      <th>7</th>\n",
       "      <th>8</th>\n",
       "      <th>9</th>\n",
       "      <th>...</th>\n",
       "      <th>51</th>\n",
       "      <th>52</th>\n",
       "      <th>53</th>\n",
       "      <th>54</th>\n",
       "      <th>55</th>\n",
       "      <th>56</th>\n",
       "      <th>57</th>\n",
       "      <th>58</th>\n",
       "      <th>59</th>\n",
       "      <th>class</th>\n",
       "    </tr>\n",
       "  </thead>\n",
       "  <tbody>\n",
       "    <tr>\n",
       "      <th>0</th>\n",
       "      <td>28.7812</td>\n",
       "      <td>34.4632</td>\n",
       "      <td>31.3381</td>\n",
       "      <td>31.2834</td>\n",
       "      <td>28.9207</td>\n",
       "      <td>33.7596</td>\n",
       "      <td>25.3969</td>\n",
       "      <td>27.7849</td>\n",
       "      <td>35.2479</td>\n",
       "      <td>27.1159</td>\n",
       "      <td>...</td>\n",
       "      <td>24.5556</td>\n",
       "      <td>33.7431</td>\n",
       "      <td>25.0466</td>\n",
       "      <td>34.9318</td>\n",
       "      <td>34.9879</td>\n",
       "      <td>32.4721</td>\n",
       "      <td>33.3759</td>\n",
       "      <td>25.4652</td>\n",
       "      <td>25.8717</td>\n",
       "      <td>1</td>\n",
       "    </tr>\n",
       "    <tr>\n",
       "      <th>1</th>\n",
       "      <td>24.8923</td>\n",
       "      <td>25.7410</td>\n",
       "      <td>27.5532</td>\n",
       "      <td>32.8217</td>\n",
       "      <td>27.8789</td>\n",
       "      <td>31.5926</td>\n",
       "      <td>31.4861</td>\n",
       "      <td>35.5469</td>\n",
       "      <td>27.9516</td>\n",
       "      <td>31.6595</td>\n",
       "      <td>...</td>\n",
       "      <td>31.0205</td>\n",
       "      <td>26.6418</td>\n",
       "      <td>28.4331</td>\n",
       "      <td>33.6564</td>\n",
       "      <td>26.4244</td>\n",
       "      <td>28.4661</td>\n",
       "      <td>34.2484</td>\n",
       "      <td>32.1005</td>\n",
       "      <td>26.6910</td>\n",
       "      <td>1</td>\n",
       "    </tr>\n",
       "    <tr>\n",
       "      <th>2</th>\n",
       "      <td>31.3987</td>\n",
       "      <td>30.6316</td>\n",
       "      <td>26.3983</td>\n",
       "      <td>24.2905</td>\n",
       "      <td>27.8613</td>\n",
       "      <td>28.5491</td>\n",
       "      <td>24.9717</td>\n",
       "      <td>32.4358</td>\n",
       "      <td>25.2239</td>\n",
       "      <td>27.3068</td>\n",
       "      <td>...</td>\n",
       "      <td>26.5966</td>\n",
       "      <td>25.5387</td>\n",
       "      <td>32.5434</td>\n",
       "      <td>25.5772</td>\n",
       "      <td>29.9897</td>\n",
       "      <td>31.3510</td>\n",
       "      <td>33.9002</td>\n",
       "      <td>29.5446</td>\n",
       "      <td>29.3430</td>\n",
       "      <td>1</td>\n",
       "    </tr>\n",
       "    <tr>\n",
       "      <th>3</th>\n",
       "      <td>25.7740</td>\n",
       "      <td>30.5262</td>\n",
       "      <td>35.4209</td>\n",
       "      <td>25.6033</td>\n",
       "      <td>27.9700</td>\n",
       "      <td>25.2702</td>\n",
       "      <td>28.1320</td>\n",
       "      <td>29.4268</td>\n",
       "      <td>31.4549</td>\n",
       "      <td>27.3200</td>\n",
       "      <td>...</td>\n",
       "      <td>28.7261</td>\n",
       "      <td>28.2979</td>\n",
       "      <td>31.5787</td>\n",
       "      <td>34.6156</td>\n",
       "      <td>32.5492</td>\n",
       "      <td>30.9827</td>\n",
       "      <td>24.8938</td>\n",
       "      <td>27.3659</td>\n",
       "      <td>25.3069</td>\n",
       "      <td>1</td>\n",
       "    </tr>\n",
       "    <tr>\n",
       "      <th>4</th>\n",
       "      <td>27.1798</td>\n",
       "      <td>29.2498</td>\n",
       "      <td>33.6928</td>\n",
       "      <td>25.6264</td>\n",
       "      <td>24.6555</td>\n",
       "      <td>28.9446</td>\n",
       "      <td>35.7980</td>\n",
       "      <td>34.9446</td>\n",
       "      <td>24.5596</td>\n",
       "      <td>34.2366</td>\n",
       "      <td>...</td>\n",
       "      <td>27.9601</td>\n",
       "      <td>35.7198</td>\n",
       "      <td>27.5760</td>\n",
       "      <td>35.3375</td>\n",
       "      <td>29.9993</td>\n",
       "      <td>34.2149</td>\n",
       "      <td>33.1276</td>\n",
       "      <td>31.1057</td>\n",
       "      <td>31.0179</td>\n",
       "      <td>1</td>\n",
       "    </tr>\n",
       "  </tbody>\n",
       "</table>\n",
       "<p>5 rows × 61 columns</p>\n",
       "</div>"
      ],
      "text/plain": [
       "         0        1        2        3        4        5        6        7  \\\n",
       "0  28.7812  34.4632  31.3381  31.2834  28.9207  33.7596  25.3969  27.7849   \n",
       "1  24.8923  25.7410  27.5532  32.8217  27.8789  31.5926  31.4861  35.5469   \n",
       "2  31.3987  30.6316  26.3983  24.2905  27.8613  28.5491  24.9717  32.4358   \n",
       "3  25.7740  30.5262  35.4209  25.6033  27.9700  25.2702  28.1320  29.4268   \n",
       "4  27.1798  29.2498  33.6928  25.6264  24.6555  28.9446  35.7980  34.9446   \n",
       "\n",
       "         8        9  ...       51       52       53       54       55  \\\n",
       "0  35.2479  27.1159  ...  24.5556  33.7431  25.0466  34.9318  34.9879   \n",
       "1  27.9516  31.6595  ...  31.0205  26.6418  28.4331  33.6564  26.4244   \n",
       "2  25.2239  27.3068  ...  26.5966  25.5387  32.5434  25.5772  29.9897   \n",
       "3  31.4549  27.3200  ...  28.7261  28.2979  31.5787  34.6156  32.5492   \n",
       "4  24.5596  34.2366  ...  27.9601  35.7198  27.5760  35.3375  29.9993   \n",
       "\n",
       "        56       57       58       59  class  \n",
       "0  32.4721  33.3759  25.4652  25.8717      1  \n",
       "1  28.4661  34.2484  32.1005  26.6910      1  \n",
       "2  31.3510  33.9002  29.5446  29.3430      1  \n",
       "3  30.9827  24.8938  27.3659  25.3069      1  \n",
       "4  34.2149  33.1276  31.1057  31.0179      1  \n",
       "\n",
       "[5 rows x 61 columns]"
      ]
     },
     "execution_count": 209,
     "metadata": {},
     "output_type": "execute_result"
    }
   ],
   "source": [
    "df1.head()"
   ]
  },
  {
   "cell_type": "code",
   "execution_count": 210,
   "metadata": {},
   "outputs": [],
   "source": [
    "df4=df1.copy()"
   ]
  },
  {
   "cell_type": "code",
   "execution_count": 211,
   "metadata": {},
   "outputs": [
    {
     "data": {
      "text/plain": [
       "(600, 61)"
      ]
     },
     "execution_count": 211,
     "metadata": {},
     "output_type": "execute_result"
    }
   ],
   "source": [
    "df4.shape"
   ]
  },
  {
   "cell_type": "code",
   "execution_count": 212,
   "metadata": {},
   "outputs": [
    {
     "data": {
      "text/html": [
       "<div>\n",
       "<style scoped>\n",
       "    .dataframe tbody tr th:only-of-type {\n",
       "        vertical-align: middle;\n",
       "    }\n",
       "\n",
       "    .dataframe tbody tr th {\n",
       "        vertical-align: top;\n",
       "    }\n",
       "\n",
       "    .dataframe thead th {\n",
       "        text-align: right;\n",
       "    }\n",
       "</style>\n",
       "<table border=\"1\" class=\"dataframe\">\n",
       "  <thead>\n",
       "    <tr style=\"text-align: right;\">\n",
       "      <th></th>\n",
       "      <th>0</th>\n",
       "      <th>1</th>\n",
       "      <th>2</th>\n",
       "      <th>3</th>\n",
       "      <th>4</th>\n",
       "      <th>5</th>\n",
       "      <th>6</th>\n",
       "      <th>7</th>\n",
       "      <th>8</th>\n",
       "      <th>9</th>\n",
       "      <th>...</th>\n",
       "      <th>50</th>\n",
       "      <th>51</th>\n",
       "      <th>52</th>\n",
       "      <th>53</th>\n",
       "      <th>54</th>\n",
       "      <th>55</th>\n",
       "      <th>56</th>\n",
       "      <th>57</th>\n",
       "      <th>58</th>\n",
       "      <th>59</th>\n",
       "    </tr>\n",
       "  </thead>\n",
       "  <tbody>\n",
       "    <tr>\n",
       "      <th>0</th>\n",
       "      <td>28.7812</td>\n",
       "      <td>34.4632</td>\n",
       "      <td>31.3381</td>\n",
       "      <td>31.2834</td>\n",
       "      <td>28.9207</td>\n",
       "      <td>33.7596</td>\n",
       "      <td>25.3969</td>\n",
       "      <td>27.7849</td>\n",
       "      <td>35.2479</td>\n",
       "      <td>27.1159</td>\n",
       "      <td>...</td>\n",
       "      <td>31.4333</td>\n",
       "      <td>24.5556</td>\n",
       "      <td>33.74310</td>\n",
       "      <td>25.0466</td>\n",
       "      <td>34.93180</td>\n",
       "      <td>34.98790</td>\n",
       "      <td>32.4721</td>\n",
       "      <td>33.3759</td>\n",
       "      <td>25.46520</td>\n",
       "      <td>25.8717</td>\n",
       "    </tr>\n",
       "    <tr>\n",
       "      <th>1</th>\n",
       "      <td>24.8923</td>\n",
       "      <td>25.7410</td>\n",
       "      <td>27.5532</td>\n",
       "      <td>32.8217</td>\n",
       "      <td>27.8789</td>\n",
       "      <td>31.5926</td>\n",
       "      <td>31.4861</td>\n",
       "      <td>35.5469</td>\n",
       "      <td>27.9516</td>\n",
       "      <td>31.6595</td>\n",
       "      <td>...</td>\n",
       "      <td>32.5577</td>\n",
       "      <td>31.0205</td>\n",
       "      <td>26.64180</td>\n",
       "      <td>28.4331</td>\n",
       "      <td>33.65640</td>\n",
       "      <td>26.42440</td>\n",
       "      <td>28.4661</td>\n",
       "      <td>34.2484</td>\n",
       "      <td>32.10050</td>\n",
       "      <td>26.6910</td>\n",
       "    </tr>\n",
       "    <tr>\n",
       "      <th>2</th>\n",
       "      <td>31.3987</td>\n",
       "      <td>30.6316</td>\n",
       "      <td>26.3983</td>\n",
       "      <td>24.2905</td>\n",
       "      <td>27.8613</td>\n",
       "      <td>28.5491</td>\n",
       "      <td>24.9717</td>\n",
       "      <td>32.4358</td>\n",
       "      <td>25.2239</td>\n",
       "      <td>27.3068</td>\n",
       "      <td>...</td>\n",
       "      <td>33.6318</td>\n",
       "      <td>26.5966</td>\n",
       "      <td>25.53870</td>\n",
       "      <td>32.5434</td>\n",
       "      <td>25.57720</td>\n",
       "      <td>29.98970</td>\n",
       "      <td>31.3510</td>\n",
       "      <td>33.9002</td>\n",
       "      <td>29.54460</td>\n",
       "      <td>29.3430</td>\n",
       "    </tr>\n",
       "    <tr>\n",
       "      <th>3</th>\n",
       "      <td>25.7740</td>\n",
       "      <td>30.5262</td>\n",
       "      <td>35.4209</td>\n",
       "      <td>25.6033</td>\n",
       "      <td>27.9700</td>\n",
       "      <td>25.2702</td>\n",
       "      <td>28.1320</td>\n",
       "      <td>29.4268</td>\n",
       "      <td>31.4549</td>\n",
       "      <td>27.3200</td>\n",
       "      <td>...</td>\n",
       "      <td>34.6292</td>\n",
       "      <td>28.7261</td>\n",
       "      <td>28.29790</td>\n",
       "      <td>31.5787</td>\n",
       "      <td>34.61560</td>\n",
       "      <td>32.54920</td>\n",
       "      <td>30.9827</td>\n",
       "      <td>24.8938</td>\n",
       "      <td>27.36590</td>\n",
       "      <td>25.3069</td>\n",
       "    </tr>\n",
       "    <tr>\n",
       "      <th>4</th>\n",
       "      <td>27.1798</td>\n",
       "      <td>29.2498</td>\n",
       "      <td>33.6928</td>\n",
       "      <td>25.6264</td>\n",
       "      <td>24.6555</td>\n",
       "      <td>28.9446</td>\n",
       "      <td>35.7980</td>\n",
       "      <td>34.9446</td>\n",
       "      <td>24.5596</td>\n",
       "      <td>34.2366</td>\n",
       "      <td>...</td>\n",
       "      <td>27.7218</td>\n",
       "      <td>27.9601</td>\n",
       "      <td>35.71980</td>\n",
       "      <td>27.5760</td>\n",
       "      <td>35.33750</td>\n",
       "      <td>29.99930</td>\n",
       "      <td>34.2149</td>\n",
       "      <td>33.1276</td>\n",
       "      <td>31.10570</td>\n",
       "      <td>31.0179</td>\n",
       "    </tr>\n",
       "    <tr>\n",
       "      <th>...</th>\n",
       "      <td>...</td>\n",
       "      <td>...</td>\n",
       "      <td>...</td>\n",
       "      <td>...</td>\n",
       "      <td>...</td>\n",
       "      <td>...</td>\n",
       "      <td>...</td>\n",
       "      <td>...</td>\n",
       "      <td>...</td>\n",
       "      <td>...</td>\n",
       "      <td>...</td>\n",
       "      <td>...</td>\n",
       "      <td>...</td>\n",
       "      <td>...</td>\n",
       "      <td>...</td>\n",
       "      <td>...</td>\n",
       "      <td>...</td>\n",
       "      <td>...</td>\n",
       "      <td>...</td>\n",
       "      <td>...</td>\n",
       "      <td>...</td>\n",
       "    </tr>\n",
       "    <tr>\n",
       "      <th>595</th>\n",
       "      <td>29.6254</td>\n",
       "      <td>25.5034</td>\n",
       "      <td>31.5978</td>\n",
       "      <td>31.4663</td>\n",
       "      <td>33.5488</td>\n",
       "      <td>28.2935</td>\n",
       "      <td>28.9244</td>\n",
       "      <td>30.6922</td>\n",
       "      <td>25.3301</td>\n",
       "      <td>26.8728</td>\n",
       "      <td>...</td>\n",
       "      <td>26.7468</td>\n",
       "      <td>18.8795</td>\n",
       "      <td>21.33210</td>\n",
       "      <td>23.6915</td>\n",
       "      <td>22.30970</td>\n",
       "      <td>19.13610</td>\n",
       "      <td>15.2851</td>\n",
       "      <td>22.5278</td>\n",
       "      <td>20.65720</td>\n",
       "      <td>24.1289</td>\n",
       "    </tr>\n",
       "    <tr>\n",
       "      <th>596</th>\n",
       "      <td>27.4144</td>\n",
       "      <td>25.3973</td>\n",
       "      <td>26.4600</td>\n",
       "      <td>31.9782</td>\n",
       "      <td>26.1251</td>\n",
       "      <td>27.4629</td>\n",
       "      <td>30.4888</td>\n",
       "      <td>34.9292</td>\n",
       "      <td>27.5580</td>\n",
       "      <td>30.6863</td>\n",
       "      <td>...</td>\n",
       "      <td>19.1063</td>\n",
       "      <td>11.4546</td>\n",
       "      <td>16.88800</td>\n",
       "      <td>18.2691</td>\n",
       "      <td>11.58310</td>\n",
       "      <td>14.11760</td>\n",
       "      <td>20.2289</td>\n",
       "      <td>11.1314</td>\n",
       "      <td>9.98019</td>\n",
       "      <td>10.7201</td>\n",
       "    </tr>\n",
       "    <tr>\n",
       "      <th>597</th>\n",
       "      <td>35.8990</td>\n",
       "      <td>26.6719</td>\n",
       "      <td>34.1911</td>\n",
       "      <td>35.8270</td>\n",
       "      <td>25.1009</td>\n",
       "      <td>24.8564</td>\n",
       "      <td>25.8141</td>\n",
       "      <td>30.6301</td>\n",
       "      <td>34.2124</td>\n",
       "      <td>32.5874</td>\n",
       "      <td>...</td>\n",
       "      <td>21.8787</td>\n",
       "      <td>16.0021</td>\n",
       "      <td>15.28790</td>\n",
       "      <td>16.9459</td>\n",
       "      <td>17.53380</td>\n",
       "      <td>16.84640</td>\n",
       "      <td>16.5460</td>\n",
       "      <td>15.9268</td>\n",
       "      <td>18.08430</td>\n",
       "      <td>17.4747</td>\n",
       "    </tr>\n",
       "    <tr>\n",
       "      <th>598</th>\n",
       "      <td>24.5383</td>\n",
       "      <td>24.2802</td>\n",
       "      <td>28.2814</td>\n",
       "      <td>27.1316</td>\n",
       "      <td>26.6623</td>\n",
       "      <td>32.1100</td>\n",
       "      <td>32.8100</td>\n",
       "      <td>30.4829</td>\n",
       "      <td>35.8586</td>\n",
       "      <td>25.3866</td>\n",
       "      <td>...</td>\n",
       "      <td>19.6441</td>\n",
       "      <td>11.5238</td>\n",
       "      <td>15.41850</td>\n",
       "      <td>12.6699</td>\n",
       "      <td>13.11640</td>\n",
       "      <td>8.23496</td>\n",
       "      <td>12.0419</td>\n",
       "      <td>19.3096</td>\n",
       "      <td>12.99850</td>\n",
       "      <td>17.4599</td>\n",
       "    </tr>\n",
       "    <tr>\n",
       "      <th>599</th>\n",
       "      <td>34.3354</td>\n",
       "      <td>30.9375</td>\n",
       "      <td>31.9529</td>\n",
       "      <td>31.1457</td>\n",
       "      <td>24.5189</td>\n",
       "      <td>24.3933</td>\n",
       "      <td>27.6961</td>\n",
       "      <td>29.8744</td>\n",
       "      <td>26.7666</td>\n",
       "      <td>33.0887</td>\n",
       "      <td>...</td>\n",
       "      <td>10.6075</td>\n",
       "      <td>15.1897</td>\n",
       "      <td>9.07618</td>\n",
       "      <td>17.9085</td>\n",
       "      <td>9.84551</td>\n",
       "      <td>15.01300</td>\n",
       "      <td>13.9132</td>\n",
       "      <td>11.7426</td>\n",
       "      <td>11.69890</td>\n",
       "      <td>10.1521</td>\n",
       "    </tr>\n",
       "  </tbody>\n",
       "</table>\n",
       "<p>600 rows × 60 columns</p>\n",
       "</div>"
      ],
      "text/plain": [
       "          0        1        2        3        4        5        6        7   \\\n",
       "0    28.7812  34.4632  31.3381  31.2834  28.9207  33.7596  25.3969  27.7849   \n",
       "1    24.8923  25.7410  27.5532  32.8217  27.8789  31.5926  31.4861  35.5469   \n",
       "2    31.3987  30.6316  26.3983  24.2905  27.8613  28.5491  24.9717  32.4358   \n",
       "3    25.7740  30.5262  35.4209  25.6033  27.9700  25.2702  28.1320  29.4268   \n",
       "4    27.1798  29.2498  33.6928  25.6264  24.6555  28.9446  35.7980  34.9446   \n",
       "..       ...      ...      ...      ...      ...      ...      ...      ...   \n",
       "595  29.6254  25.5034  31.5978  31.4663  33.5488  28.2935  28.9244  30.6922   \n",
       "596  27.4144  25.3973  26.4600  31.9782  26.1251  27.4629  30.4888  34.9292   \n",
       "597  35.8990  26.6719  34.1911  35.8270  25.1009  24.8564  25.8141  30.6301   \n",
       "598  24.5383  24.2802  28.2814  27.1316  26.6623  32.1100  32.8100  30.4829   \n",
       "599  34.3354  30.9375  31.9529  31.1457  24.5189  24.3933  27.6961  29.8744   \n",
       "\n",
       "          8        9   ...       50       51        52       53        54  \\\n",
       "0    35.2479  27.1159  ...  31.4333  24.5556  33.74310  25.0466  34.93180   \n",
       "1    27.9516  31.6595  ...  32.5577  31.0205  26.64180  28.4331  33.65640   \n",
       "2    25.2239  27.3068  ...  33.6318  26.5966  25.53870  32.5434  25.57720   \n",
       "3    31.4549  27.3200  ...  34.6292  28.7261  28.29790  31.5787  34.61560   \n",
       "4    24.5596  34.2366  ...  27.7218  27.9601  35.71980  27.5760  35.33750   \n",
       "..       ...      ...  ...      ...      ...       ...      ...       ...   \n",
       "595  25.3301  26.8728  ...  26.7468  18.8795  21.33210  23.6915  22.30970   \n",
       "596  27.5580  30.6863  ...  19.1063  11.4546  16.88800  18.2691  11.58310   \n",
       "597  34.2124  32.5874  ...  21.8787  16.0021  15.28790  16.9459  17.53380   \n",
       "598  35.8586  25.3866  ...  19.6441  11.5238  15.41850  12.6699  13.11640   \n",
       "599  26.7666  33.0887  ...  10.6075  15.1897   9.07618  17.9085   9.84551   \n",
       "\n",
       "           55       56       57        58       59  \n",
       "0    34.98790  32.4721  33.3759  25.46520  25.8717  \n",
       "1    26.42440  28.4661  34.2484  32.10050  26.6910  \n",
       "2    29.98970  31.3510  33.9002  29.54460  29.3430  \n",
       "3    32.54920  30.9827  24.8938  27.36590  25.3069  \n",
       "4    29.99930  34.2149  33.1276  31.10570  31.0179  \n",
       "..        ...      ...      ...       ...      ...  \n",
       "595  19.13610  15.2851  22.5278  20.65720  24.1289  \n",
       "596  14.11760  20.2289  11.1314   9.98019  10.7201  \n",
       "597  16.84640  16.5460  15.9268  18.08430  17.4747  \n",
       "598   8.23496  12.0419  19.3096  12.99850  17.4599  \n",
       "599  15.01300  13.9132  11.7426  11.69890  10.1521  \n",
       "\n",
       "[600 rows x 60 columns]"
      ]
     },
     "execution_count": 212,
     "metadata": {},
     "output_type": "execute_result"
    }
   ],
   "source": [
    "df4[list(df4)[:-1]]"
   ]
  },
  {
   "cell_type": "code",
   "execution_count": 213,
   "metadata": {},
   "outputs": [
    {
     "data": {
      "text/plain": [
       "StandardScaler()"
      ]
     },
     "execution_count": 213,
     "metadata": {},
     "output_type": "execute_result"
    }
   ],
   "source": [
    "scaler.fit(df4[list(df4)[:-1]])"
   ]
  },
  {
   "cell_type": "code",
   "execution_count": 214,
   "metadata": {},
   "outputs": [],
   "source": [
    "np4_standard=scaler.transform(df4[list(df4)[:-1]])"
   ]
  },
  {
   "cell_type": "code",
   "execution_count": 215,
   "metadata": {},
   "outputs": [
    {
     "data": {
      "text/plain": [
       "(600, 60)"
      ]
     },
     "execution_count": 215,
     "metadata": {},
     "output_type": "execute_result"
    }
   ],
   "source": [
    "np4_standard.shape"
   ]
  },
  {
   "cell_type": "code",
   "execution_count": 216,
   "metadata": {},
   "outputs": [],
   "source": [
    "df4_standard = pd.DataFrame(data=np4_standard,columns=None)"
   ]
  },
  {
   "cell_type": "code",
   "execution_count": 217,
   "metadata": {},
   "outputs": [
    {
     "data": {
      "text/plain": [
       "pandas.core.frame.DataFrame"
      ]
     },
     "execution_count": 217,
     "metadata": {},
     "output_type": "execute_result"
    }
   ],
   "source": [
    "type(df4_standard)"
   ]
  },
  {
   "cell_type": "code",
   "execution_count": 218,
   "metadata": {},
   "outputs": [],
   "source": [
    "df4_standard['class'] = df_label['class'].copy()"
   ]
  },
  {
   "cell_type": "code",
   "execution_count": 219,
   "metadata": {},
   "outputs": [
    {
     "data": {
      "text/html": [
       "<div>\n",
       "<style scoped>\n",
       "    .dataframe tbody tr th:only-of-type {\n",
       "        vertical-align: middle;\n",
       "    }\n",
       "\n",
       "    .dataframe tbody tr th {\n",
       "        vertical-align: top;\n",
       "    }\n",
       "\n",
       "    .dataframe thead th {\n",
       "        text-align: right;\n",
       "    }\n",
       "</style>\n",
       "<table border=\"1\" class=\"dataframe\">\n",
       "  <thead>\n",
       "    <tr style=\"text-align: right;\">\n",
       "      <th></th>\n",
       "      <th>0</th>\n",
       "      <th>1</th>\n",
       "      <th>2</th>\n",
       "      <th>3</th>\n",
       "      <th>4</th>\n",
       "      <th>5</th>\n",
       "      <th>6</th>\n",
       "      <th>7</th>\n",
       "      <th>8</th>\n",
       "      <th>9</th>\n",
       "      <th>...</th>\n",
       "      <th>51</th>\n",
       "      <th>52</th>\n",
       "      <th>53</th>\n",
       "      <th>54</th>\n",
       "      <th>55</th>\n",
       "      <th>56</th>\n",
       "      <th>57</th>\n",
       "      <th>58</th>\n",
       "      <th>59</th>\n",
       "      <th>class</th>\n",
       "    </tr>\n",
       "  </thead>\n",
       "  <tbody>\n",
       "    <tr>\n",
       "      <th>0</th>\n",
       "      <td>-0.355014</td>\n",
       "      <td>0.854574</td>\n",
       "      <td>-0.106416</td>\n",
       "      <td>-0.162030</td>\n",
       "      <td>-0.519860</td>\n",
       "      <td>0.567628</td>\n",
       "      <td>-1.193718</td>\n",
       "      <td>-0.293041</td>\n",
       "      <td>1.276395</td>\n",
       "      <td>-0.209509</td>\n",
       "      <td>...</td>\n",
       "      <td>-0.350891</td>\n",
       "      <td>0.286327</td>\n",
       "      <td>-0.305560</td>\n",
       "      <td>0.335635</td>\n",
       "      <td>0.314779</td>\n",
       "      <td>0.146053</td>\n",
       "      <td>0.220628</td>\n",
       "      <td>-0.291505</td>\n",
       "      <td>-0.278202</td>\n",
       "      <td>1</td>\n",
       "    </tr>\n",
       "    <tr>\n",
       "      <th>1</th>\n",
       "      <td>-1.468484</td>\n",
       "      <td>-1.245022</td>\n",
       "      <td>-0.827369</td>\n",
       "      <td>0.101385</td>\n",
       "      <td>-0.710865</td>\n",
       "      <td>0.088730</td>\n",
       "      <td>0.302234</td>\n",
       "      <td>1.377726</td>\n",
       "      <td>-0.096555</td>\n",
       "      <td>0.571477</td>\n",
       "      <td>...</td>\n",
       "      <td>0.100299</td>\n",
       "      <td>-0.205764</td>\n",
       "      <td>-0.076480</td>\n",
       "      <td>0.249561</td>\n",
       "      <td>-0.253746</td>\n",
       "      <td>-0.118373</td>\n",
       "      <td>0.278284</td>\n",
       "      <td>0.134151</td>\n",
       "      <td>-0.225060</td>\n",
       "      <td>1</td>\n",
       "    </tr>\n",
       "    <tr>\n",
       "      <th>2</th>\n",
       "      <td>0.394429</td>\n",
       "      <td>-0.067763</td>\n",
       "      <td>-1.047356</td>\n",
       "      <td>-1.359476</td>\n",
       "      <td>-0.714092</td>\n",
       "      <td>-0.583871</td>\n",
       "      <td>-1.298178</td>\n",
       "      <td>0.708063</td>\n",
       "      <td>-0.609828</td>\n",
       "      <td>-0.176696</td>\n",
       "      <td>...</td>\n",
       "      <td>-0.208448</td>\n",
       "      <td>-0.282205</td>\n",
       "      <td>0.201562</td>\n",
       "      <td>-0.295687</td>\n",
       "      <td>-0.017048</td>\n",
       "      <td>0.072052</td>\n",
       "      <td>0.255274</td>\n",
       "      <td>-0.029811</td>\n",
       "      <td>-0.053045</td>\n",
       "      <td>1</td>\n",
       "    </tr>\n",
       "    <tr>\n",
       "      <th>3</th>\n",
       "      <td>-1.216036</td>\n",
       "      <td>-0.093135</td>\n",
       "      <td>0.671281</td>\n",
       "      <td>-1.134675</td>\n",
       "      <td>-0.694163</td>\n",
       "      <td>-1.308494</td>\n",
       "      <td>-0.521778</td>\n",
       "      <td>0.060378</td>\n",
       "      <td>0.562664</td>\n",
       "      <td>-0.174427</td>\n",
       "      <td>...</td>\n",
       "      <td>-0.059829</td>\n",
       "      <td>-0.091003</td>\n",
       "      <td>0.136305</td>\n",
       "      <td>0.314296</td>\n",
       "      <td>0.152876</td>\n",
       "      <td>0.047741</td>\n",
       "      <td>-0.339888</td>\n",
       "      <td>-0.169575</td>\n",
       "      <td>-0.314836</td>\n",
       "      <td>1</td>\n",
       "    </tr>\n",
       "    <tr>\n",
       "      <th>4</th>\n",
       "      <td>-0.813527</td>\n",
       "      <td>-0.400388</td>\n",
       "      <td>0.342110</td>\n",
       "      <td>-1.130720</td>\n",
       "      <td>-1.301847</td>\n",
       "      <td>-0.496467</td>\n",
       "      <td>1.361551</td>\n",
       "      <td>1.248081</td>\n",
       "      <td>-0.734830</td>\n",
       "      <td>1.014447</td>\n",
       "      <td>...</td>\n",
       "      <td>-0.113289</td>\n",
       "      <td>0.423304</td>\n",
       "      <td>-0.134458</td>\n",
       "      <td>0.363015</td>\n",
       "      <td>-0.016411</td>\n",
       "      <td>0.261090</td>\n",
       "      <td>0.204219</td>\n",
       "      <td>0.070334</td>\n",
       "      <td>0.055593</td>\n",
       "      <td>1</td>\n",
       "    </tr>\n",
       "    <tr>\n",
       "      <th>...</th>\n",
       "      <td>...</td>\n",
       "      <td>...</td>\n",
       "      <td>...</td>\n",
       "      <td>...</td>\n",
       "      <td>...</td>\n",
       "      <td>...</td>\n",
       "      <td>...</td>\n",
       "      <td>...</td>\n",
       "      <td>...</td>\n",
       "      <td>...</td>\n",
       "      <td>...</td>\n",
       "      <td>...</td>\n",
       "      <td>...</td>\n",
       "      <td>...</td>\n",
       "      <td>...</td>\n",
       "      <td>...</td>\n",
       "      <td>...</td>\n",
       "      <td>...</td>\n",
       "      <td>...</td>\n",
       "      <td>...</td>\n",
       "      <td>...</td>\n",
       "    </tr>\n",
       "    <tr>\n",
       "      <th>595</th>\n",
       "      <td>-0.113302</td>\n",
       "      <td>-1.302217</td>\n",
       "      <td>-0.056948</td>\n",
       "      <td>-0.130710</td>\n",
       "      <td>0.328661</td>\n",
       "      <td>-0.640357</td>\n",
       "      <td>-0.327106</td>\n",
       "      <td>0.332754</td>\n",
       "      <td>-0.589844</td>\n",
       "      <td>-0.251295</td>\n",
       "      <td>...</td>\n",
       "      <td>-0.747030</td>\n",
       "      <td>-0.573705</td>\n",
       "      <td>-0.397226</td>\n",
       "      <td>-0.516204</td>\n",
       "      <td>-0.737611</td>\n",
       "      <td>-0.988416</td>\n",
       "      <td>-0.496238</td>\n",
       "      <td>-0.599940</td>\n",
       "      <td>-0.391245</td>\n",
       "      <td>6</td>\n",
       "    </tr>\n",
       "    <tr>\n",
       "      <th>596</th>\n",
       "      <td>-0.746356</td>\n",
       "      <td>-1.327757</td>\n",
       "      <td>-1.035604</td>\n",
       "      <td>-0.043054</td>\n",
       "      <td>-1.032409</td>\n",
       "      <td>-0.823916</td>\n",
       "      <td>0.057224</td>\n",
       "      <td>1.244767</td>\n",
       "      <td>-0.170619</td>\n",
       "      <td>0.404196</td>\n",
       "      <td>...</td>\n",
       "      <td>-1.265218</td>\n",
       "      <td>-0.881663</td>\n",
       "      <td>-0.764025</td>\n",
       "      <td>-1.240120</td>\n",
       "      <td>-1.070786</td>\n",
       "      <td>-0.662089</td>\n",
       "      <td>-1.249337</td>\n",
       "      <td>-1.284872</td>\n",
       "      <td>-1.260973</td>\n",
       "      <td>6</td>\n",
       "    </tr>\n",
       "    <tr>\n",
       "      <th>597</th>\n",
       "      <td>1.682956</td>\n",
       "      <td>-1.020937</td>\n",
       "      <td>0.437027</td>\n",
       "      <td>0.616005</td>\n",
       "      <td>-1.220187</td>\n",
       "      <td>-1.399942</td>\n",
       "      <td>-1.091223</td>\n",
       "      <td>0.319387</td>\n",
       "      <td>1.081544</td>\n",
       "      <td>0.730971</td>\n",
       "      <td>...</td>\n",
       "      <td>-0.947845</td>\n",
       "      <td>-0.992543</td>\n",
       "      <td>-0.853533</td>\n",
       "      <td>-0.838520</td>\n",
       "      <td>-0.889623</td>\n",
       "      <td>-0.905187</td>\n",
       "      <td>-0.932447</td>\n",
       "      <td>-0.764992</td>\n",
       "      <td>-0.822853</td>\n",
       "      <td>6</td>\n",
       "    </tr>\n",
       "    <tr>\n",
       "      <th>598</th>\n",
       "      <td>-1.569842</td>\n",
       "      <td>-1.596664</td>\n",
       "      <td>-0.688661</td>\n",
       "      <td>-0.872973</td>\n",
       "      <td>-0.933918</td>\n",
       "      <td>0.203073</td>\n",
       "      <td>0.627481</td>\n",
       "      <td>0.287703</td>\n",
       "      <td>1.391311</td>\n",
       "      <td>-0.506753</td>\n",
       "      <td>...</td>\n",
       "      <td>-1.260389</td>\n",
       "      <td>-0.983493</td>\n",
       "      <td>-1.142784</td>\n",
       "      <td>-1.136641</td>\n",
       "      <td>-1.461331</td>\n",
       "      <td>-1.202491</td>\n",
       "      <td>-0.708904</td>\n",
       "      <td>-1.091247</td>\n",
       "      <td>-0.823813</td>\n",
       "      <td>6</td>\n",
       "    </tr>\n",
       "    <tr>\n",
       "      <th>599</th>\n",
       "      <td>1.235266</td>\n",
       "      <td>0.005872</td>\n",
       "      <td>0.010692</td>\n",
       "      <td>-0.185609</td>\n",
       "      <td>-1.326891</td>\n",
       "      <td>-1.502285</td>\n",
       "      <td>-0.628866</td>\n",
       "      <td>0.156723</td>\n",
       "      <td>-0.319537</td>\n",
       "      <td>0.817138</td>\n",
       "      <td>...</td>\n",
       "      <td>-1.004543</td>\n",
       "      <td>-1.422990</td>\n",
       "      <td>-0.788418</td>\n",
       "      <td>-1.357387</td>\n",
       "      <td>-1.011341</td>\n",
       "      <td>-1.078972</td>\n",
       "      <td>-1.208948</td>\n",
       "      <td>-1.174617</td>\n",
       "      <td>-1.297815</td>\n",
       "      <td>6</td>\n",
       "    </tr>\n",
       "  </tbody>\n",
       "</table>\n",
       "<p>600 rows × 61 columns</p>\n",
       "</div>"
      ],
      "text/plain": [
       "            0         1         2         3         4         5         6  \\\n",
       "0   -0.355014  0.854574 -0.106416 -0.162030 -0.519860  0.567628 -1.193718   \n",
       "1   -1.468484 -1.245022 -0.827369  0.101385 -0.710865  0.088730  0.302234   \n",
       "2    0.394429 -0.067763 -1.047356 -1.359476 -0.714092 -0.583871 -1.298178   \n",
       "3   -1.216036 -0.093135  0.671281 -1.134675 -0.694163 -1.308494 -0.521778   \n",
       "4   -0.813527 -0.400388  0.342110 -1.130720 -1.301847 -0.496467  1.361551   \n",
       "..        ...       ...       ...       ...       ...       ...       ...   \n",
       "595 -0.113302 -1.302217 -0.056948 -0.130710  0.328661 -0.640357 -0.327106   \n",
       "596 -0.746356 -1.327757 -1.035604 -0.043054 -1.032409 -0.823916  0.057224   \n",
       "597  1.682956 -1.020937  0.437027  0.616005 -1.220187 -1.399942 -1.091223   \n",
       "598 -1.569842 -1.596664 -0.688661 -0.872973 -0.933918  0.203073  0.627481   \n",
       "599  1.235266  0.005872  0.010692 -0.185609 -1.326891 -1.502285 -0.628866   \n",
       "\n",
       "            7         8         9  ...        51        52        53  \\\n",
       "0   -0.293041  1.276395 -0.209509  ... -0.350891  0.286327 -0.305560   \n",
       "1    1.377726 -0.096555  0.571477  ...  0.100299 -0.205764 -0.076480   \n",
       "2    0.708063 -0.609828 -0.176696  ... -0.208448 -0.282205  0.201562   \n",
       "3    0.060378  0.562664 -0.174427  ... -0.059829 -0.091003  0.136305   \n",
       "4    1.248081 -0.734830  1.014447  ... -0.113289  0.423304 -0.134458   \n",
       "..        ...       ...       ...  ...       ...       ...       ...   \n",
       "595  0.332754 -0.589844 -0.251295  ... -0.747030 -0.573705 -0.397226   \n",
       "596  1.244767 -0.170619  0.404196  ... -1.265218 -0.881663 -0.764025   \n",
       "597  0.319387  1.081544  0.730971  ... -0.947845 -0.992543 -0.853533   \n",
       "598  0.287703  1.391311 -0.506753  ... -1.260389 -0.983493 -1.142784   \n",
       "599  0.156723 -0.319537  0.817138  ... -1.004543 -1.422990 -0.788418   \n",
       "\n",
       "           54        55        56        57        58        59  class  \n",
       "0    0.335635  0.314779  0.146053  0.220628 -0.291505 -0.278202      1  \n",
       "1    0.249561 -0.253746 -0.118373  0.278284  0.134151 -0.225060      1  \n",
       "2   -0.295687 -0.017048  0.072052  0.255274 -0.029811 -0.053045      1  \n",
       "3    0.314296  0.152876  0.047741 -0.339888 -0.169575 -0.314836      1  \n",
       "4    0.363015 -0.016411  0.261090  0.204219  0.070334  0.055593      1  \n",
       "..        ...       ...       ...       ...       ...       ...    ...  \n",
       "595 -0.516204 -0.737611 -0.988416 -0.496238 -0.599940 -0.391245      6  \n",
       "596 -1.240120 -1.070786 -0.662089 -1.249337 -1.284872 -1.260973      6  \n",
       "597 -0.838520 -0.889623 -0.905187 -0.932447 -0.764992 -0.822853      6  \n",
       "598 -1.136641 -1.461331 -1.202491 -0.708904 -1.091247 -0.823813      6  \n",
       "599 -1.357387 -1.011341 -1.078972 -1.208948 -1.174617 -1.297815      6  \n",
       "\n",
       "[600 rows x 61 columns]"
      ]
     },
     "execution_count": 219,
     "metadata": {},
     "output_type": "execute_result"
    }
   ],
   "source": [
    "df4_standard"
   ]
  },
  {
   "cell_type": "code",
   "execution_count": 220,
   "metadata": {},
   "outputs": [],
   "source": [
    "from sklearn.linear_model import SGDClassifier"
   ]
  },
  {
   "cell_type": "code",
   "execution_count": 221,
   "metadata": {},
   "outputs": [],
   "source": [
    "x=df4_standard[list(df4)[:-1]]"
   ]
  },
  {
   "cell_type": "code",
   "execution_count": 222,
   "metadata": {},
   "outputs": [],
   "source": [
    "y=df4[list(df4)[-1]]"
   ]
  },
  {
   "cell_type": "code",
   "execution_count": 223,
   "metadata": {},
   "outputs": [
    {
     "data": {
      "text/plain": [
       "(600,)"
      ]
     },
     "execution_count": 223,
     "metadata": {},
     "output_type": "execute_result"
    }
   ],
   "source": [
    "y.shape"
   ]
  },
  {
   "cell_type": "code",
   "execution_count": 224,
   "metadata": {},
   "outputs": [],
   "source": [
    "x_train, x_test, y_train, y_test = train_test_split(x,y,test_size=.4, shuffle=True,random_state=42)"
   ]
  },
  {
   "cell_type": "code",
   "execution_count": 225,
   "metadata": {},
   "outputs": [
    {
     "data": {
      "text/plain": [
       "(360,)"
      ]
     },
     "execution_count": 225,
     "metadata": {},
     "output_type": "execute_result"
    }
   ],
   "source": [
    "y_train.shape"
   ]
  },
  {
   "cell_type": "code",
   "execution_count": 226,
   "metadata": {},
   "outputs": [],
   "source": [
    "clf=SGDClassifier(loss='squared_hinge')"
   ]
  },
  {
   "cell_type": "code",
   "execution_count": 227,
   "metadata": {},
   "outputs": [
    {
     "data": {
      "text/plain": [
       "SGDClassifier(loss='squared_hinge')"
      ]
     },
     "execution_count": 227,
     "metadata": {},
     "output_type": "execute_result"
    }
   ],
   "source": [
    "clf.fit(x_train,y_train)"
   ]
  },
  {
   "cell_type": "code",
   "execution_count": 228,
   "metadata": {},
   "outputs": [
    {
     "data": {
      "text/plain": [
       "array([2, 5, 1, 1, 2, 3, 1, 5, 1, 4, 1, 2, 2, 6, 4, 3, 1, 3, 2, 1, 1, 6,\n",
       "       6, 6, 4, 6, 1, 2, 1, 1, 1, 2, 1, 3, 2, 5, 2, 6, 1, 3, 4, 1, 6, 6,\n",
       "       1, 2, 5, 2, 1, 1, 3, 3, 2, 6, 1, 1, 3, 2, 2, 2, 1, 2, 4, 6, 6, 1,\n",
       "       6, 6, 1, 4, 1, 1, 5, 4, 5, 6, 4, 3, 6, 5, 3, 5, 6, 4, 1, 1, 2, 3,\n",
       "       4, 1, 3, 6, 1, 4, 3, 3, 3, 1, 5, 1, 1, 3, 6, 4, 1, 5, 2, 3, 3, 5,\n",
       "       2, 5, 6, 6, 4, 4, 4, 2, 5, 5, 2, 1, 4, 1, 2, 2, 6, 3, 6, 5, 6, 6,\n",
       "       2, 2, 5, 2, 1, 1, 3, 1, 1, 3, 2, 1, 5, 2, 4, 5, 1, 1, 6, 1, 4, 4,\n",
       "       6, 3, 1, 5, 2, 1, 4, 3, 1, 5, 4, 2, 3, 3, 6, 4, 3, 3, 1, 5, 2, 1,\n",
       "       5, 1, 1, 3, 2, 3, 6, 1, 5, 4, 4, 5, 4, 3, 5, 6, 1, 3, 5, 3, 5, 4,\n",
       "       6, 2, 2, 5, 1, 2, 3, 3, 3, 3, 3, 5, 6, 6, 6, 2, 3, 2, 4, 1, 6, 1,\n",
       "       2, 5, 1, 1, 4, 5, 4, 4, 1, 4, 1, 5, 3, 5, 6, 1, 5, 3, 5, 3],\n",
       "      dtype=int64)"
      ]
     },
     "execution_count": 228,
     "metadata": {},
     "output_type": "execute_result"
    }
   ],
   "source": [
    "clf.predict(x_test)"
   ]
  },
  {
   "cell_type": "code",
   "execution_count": 229,
   "metadata": {},
   "outputs": [
    {
     "data": {
      "text/plain": [
       "110    2\n",
       "419    5\n",
       "565    6\n",
       "77     1\n",
       "181    2\n",
       "      ..\n",
       "42     1\n",
       "416    5\n",
       "261    3\n",
       "408    5\n",
       "277    3\n",
       "Name: class, Length: 240, dtype: int64"
      ]
     },
     "execution_count": 229,
     "metadata": {},
     "output_type": "execute_result"
    }
   ],
   "source": [
    "y_test"
   ]
  },
  {
   "cell_type": "code",
   "execution_count": 230,
   "metadata": {},
   "outputs": [
    {
     "data": {
      "text/plain": [
       "0.9291666666666667"
      ]
     },
     "execution_count": 230,
     "metadata": {},
     "output_type": "execute_result"
    }
   ],
   "source": [
    "clf.score(x_test,y_test)"
   ]
  },
  {
   "cell_type": "markdown",
   "metadata": {},
   "source": [
    "## Random Forest"
   ]
  },
  {
   "cell_type": "code",
   "execution_count": 231,
   "metadata": {},
   "outputs": [],
   "source": [
    "from sklearn.ensemble import RandomForestClassifier"
   ]
  },
  {
   "cell_type": "code",
   "execution_count": 232,
   "metadata": {},
   "outputs": [],
   "source": [
    "clf=RandomForestClassifier()"
   ]
  },
  {
   "cell_type": "code",
   "execution_count": 233,
   "metadata": {},
   "outputs": [
    {
     "data": {
      "text/plain": [
       "RandomForestClassifier()"
      ]
     },
     "execution_count": 233,
     "metadata": {},
     "output_type": "execute_result"
    }
   ],
   "source": [
    "clf.fit(x_train,y_train)"
   ]
  },
  {
   "cell_type": "code",
   "execution_count": 235,
   "metadata": {},
   "outputs": [
    {
     "data": {
      "text/plain": [
       "array([0.98333333, 0.98333333, 0.95      ])"
      ]
     },
     "execution_count": 235,
     "metadata": {},
     "output_type": "execute_result"
    }
   ],
   "source": [
    "from sklearn.model_selection import cross_val_score\n",
    "scores = cross_val_score(clf,x_train, y_train, cv=3)\n",
    "scores"
   ]
  },
  {
   "cell_type": "code",
   "execution_count": 138,
   "metadata": {},
   "outputs": [
    {
     "data": {
      "text/plain": [
       "array([2, 5, 6, 1, 2, 3, 1, 5, 1, 4, 1, 2, 2, 6, 4, 3, 1, 3, 2, 1, 1, 6,\n",
       "       6, 6, 4, 6, 1, 2, 6, 5, 6, 2, 1, 3, 2, 5, 2, 6, 5, 3, 4, 1, 6, 6,\n",
       "       1, 2, 5, 2, 1, 5, 3, 3, 2, 6, 6, 6, 3, 2, 2, 2, 1, 2, 4, 6, 6, 1,\n",
       "       6, 6, 1, 4, 6, 1, 5, 4, 5, 6, 4, 3, 6, 5, 3, 5, 4, 4, 1, 1, 2, 3,\n",
       "       4, 3, 3, 6, 1, 4, 3, 3, 3, 1, 5, 1, 1, 3, 6, 4, 1, 5, 2, 3, 3, 5,\n",
       "       2, 5, 6, 6, 4, 4, 4, 2, 5, 5, 2, 1, 4, 6, 2, 2, 6, 5, 6, 5, 1, 6,\n",
       "       2, 2, 5, 2, 1, 1, 3, 1, 1, 3, 2, 1, 5, 2, 4, 5, 1, 1, 6, 6, 4, 4,\n",
       "       6, 3, 1, 5, 2, 1, 4, 3, 1, 5, 4, 2, 3, 3, 6, 4, 3, 3, 6, 5, 2, 1,\n",
       "       5, 1, 1, 3, 2, 3, 6, 5, 5, 4, 4, 5, 4, 3, 5, 6, 1, 3, 5, 3, 5, 4,\n",
       "       6, 2, 2, 5, 5, 2, 3, 3, 3, 3, 3, 5, 6, 6, 6, 2, 3, 2, 4, 1, 6, 1,\n",
       "       2, 5, 1, 6, 4, 5, 4, 4, 1, 4, 1, 5, 3, 5, 6, 1, 5, 3, 5, 3],\n",
       "      dtype=int64)"
      ]
     },
     "execution_count": 138,
     "metadata": {},
     "output_type": "execute_result"
    }
   ],
   "source": [
    "clf.predict(x_test)"
   ]
  },
  {
   "cell_type": "code",
   "execution_count": 139,
   "metadata": {},
   "outputs": [
    {
     "data": {
      "text/plain": [
       "0.9791666666666666"
      ]
     },
     "execution_count": 139,
     "metadata": {},
     "output_type": "execute_result"
    }
   ],
   "source": [
    "clf.score(x_test,y_test)"
   ]
  },
  {
   "cell_type": "code",
   "execution_count": null,
   "metadata": {},
   "outputs": [],
   "source": []
  }
 ],
 "metadata": {
  "kernelspec": {
   "display_name": "Python 3 (ipykernel)",
   "language": "python",
   "name": "python3"
  },
  "language_info": {
   "codemirror_mode": {
    "name": "ipython",
    "version": 3
   },
   "file_extension": ".py",
   "mimetype": "text/x-python",
   "name": "python",
   "nbconvert_exporter": "python",
   "pygments_lexer": "ipython3",
   "version": "3.8.3"
  }
 },
 "nbformat": 4,
 "nbformat_minor": 4
}
